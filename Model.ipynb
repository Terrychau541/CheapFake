{
 "cells": [
  {
   "cell_type": "code",
   "execution_count": 2,
   "id": "distinguished-sussex",
   "metadata": {},
   "outputs": [
    {
     "name": "stderr",
     "output_type": "stream",
     "text": [
      "2021-03-23 16:01:03.578 WARNING streamlit.watcher.file_watcher: \n",
      "  For better performance, install the Watchdog module:\n",
      "  \n",
      "  $ xcode-select --install\n",
      "  $ pip install watchdog\n",
      "\n",
      "        \n"
     ]
    }
   ],
   "source": [
    "import streamlit as st"
   ]
  },
  {
   "cell_type": "code",
   "execution_count": 3,
   "id": "announced-johns",
   "metadata": {},
   "outputs": [
    {
     "name": "stderr",
     "output_type": "stream",
     "text": [
      "2021-03-23 16:01:04.685 \n",
      "  \u001b[33m\u001b[1mWarning:\u001b[0m to view this Streamlit app on a browser, run it with the following\n",
      "  command:\n",
      "\n",
      "    streamlit run /Users/terrychau/.platformio/penv/lib/python3.8/site-packages/ipykernel_launcher.py [ARGUMENTS]\n"
     ]
    }
   ],
   "source": [
    "st.write(\"\"\"\n",
    "#Facial Editing Detector#\n",
    "\"\"\")"
   ]
  },
  {
   "cell_type": "code",
   "execution_count": 4,
   "id": "continuous-bicycle",
   "metadata": {},
   "outputs": [],
   "source": [
    "image = st.file_uploader(\"Select an image\", type = [\"png\", \"jpg\"])"
   ]
  },
  {
   "cell_type": "code",
   "execution_count": 5,
   "id": "deluxe-airport",
   "metadata": {},
   "outputs": [
    {
     "ename": "SyntaxError",
     "evalue": "invalid syntax (<ipython-input-5-66ba479a325c>, line 2)",
     "output_type": "error",
     "traceback": [
      "\u001b[0;36m  File \u001b[0;32m\"<ipython-input-5-66ba479a325c>\"\u001b[0;36m, line \u001b[0;32m2\u001b[0m\n\u001b[0;31m    prediction = global_classifier.py edited.jpg --model_path weights/global.pth\u001b[0m\n\u001b[0m                                      ^\u001b[0m\n\u001b[0;31mSyntaxError\u001b[0m\u001b[0;31m:\u001b[0m invalid syntax\n"
     ]
    }
   ],
   "source": [
    "if image is not None:\n",
    "    prediction = global_classifier.py edited.jpg --model_path weights/global.pth\n",
    "    st.write(\"Image has\", prediction, \"% chance of being edited\")"
   ]
  },
  {
   "cell_type": "code",
   "execution_count": 5,
   "id": "otherwise-precipitation",
   "metadata": {},
   "outputs": [
    {
     "data": {
      "text/plain": [
       "['png', 'jpg']"
      ]
     },
     "execution_count": 5,
     "metadata": {},
     "output_type": "execute_result"
    }
   ],
   "source": [
    "[\"png\",\"jpg\"]"
   ]
  },
  {
   "cell_type": "code",
   "execution_count": null,
   "id": "extensive-links",
   "metadata": {},
   "outputs": [],
   "source": []
  }
 ],
 "metadata": {
  "kernelspec": {
   "display_name": "Python 3",
   "language": "python",
   "name": "python3"
  },
  "language_info": {
   "codemirror_mode": {
    "name": "ipython",
    "version": 3
   },
   "file_extension": ".py",
   "mimetype": "text/x-python",
   "name": "python",
   "nbconvert_exporter": "python",
   "pygments_lexer": "ipython3",
   "version": "3.8.4"
  }
 },
 "nbformat": 4,
 "nbformat_minor": 5
}
